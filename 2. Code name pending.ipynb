{
 "cells": [
  {
   "cell_type": "code",
   "execution_count": null,
   "metadata": {},
   "outputs": [],
   "source": [
    "import numpy as np\n",
    "import pandas as pd\n",
    "import matplotlib.pyplot as plt\n",
    "import zipfile as zip\n",
    "import os\n"
   ]
  },
  {
   "cell_type": "code",
   "execution_count": null,
   "metadata": {},
   "outputs": [],
   "source": [
    "######################################################################################\n",
    "## FUNCTIONS #########################################################################\n",
    "\n",
    "def read_zip(filename):\n",
    "    z = zip.ZipFile(\"Data/\" + filename, \"r\")\n",
    "    df = pd.read_csv(z.open(z.namelist()[0]), header = 0)\n",
    "    z.close()\n",
    "    return df"
   ]
  }
 ],
 "metadata": {
  "kernelspec": {
   "display_name": "Python 3",
   "language": "python",
   "name": "python3"
  },
  "language_info": {
   "name": "python",
   "version": "3.10.5 (tags/v3.10.5:f377153, Jun  6 2022, 16:14:13) [MSC v.1929 64 bit (AMD64)]"
  },
  "orig_nbformat": 4,
  "vscode": {
   "interpreter": {
    "hash": "086c78a552cb38ab2563839151da354a5cd255a5d45bde797c58a8e591aaf2c8"
   }
  }
 },
 "nbformat": 4,
 "nbformat_minor": 2
}
