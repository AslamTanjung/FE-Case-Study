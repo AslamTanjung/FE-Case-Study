{
 "cells": [
  {
   "cell_type": "code",
   "execution_count": 2,
   "metadata": {},
   "outputs": [],
   "source": [
    "import numpy as np\n",
    "import pandas as pd\n",
    "import matplotlib.pyplot as plt\n",
    "import zipfile as zip\n",
    "import os"
   ]
  },
  {
   "cell_type": "code",
   "execution_count": 3,
   "metadata": {},
   "outputs": [
    {
     "name": "stdout",
     "output_type": "stream",
     "text": [
      "         DATE      TIME  SIZE  PRICE\n",
      "0  2008/01/02  09:30:02   100  32.34\n",
      "1  2008/01/02  09:30:06   200  32.30\n",
      "2  2008/01/02  09:30:17   100  32.29\n",
      "3  2008/01/02  09:30:19   100  32.34\n",
      "4  2008/01/02  09:30:24   300  32.34\n"
     ]
    }
   ],
   "source": [
    "# read the dataset using the compression zip\n",
    "disney = pd.read_csv('Data/Disney.zip',compression='zip', skiprows=[1], usecols=range(1,5))\n",
    " \n",
    "# display dataset\n",
    "print(disney.head())\n",
    "\n",
    "# \"Size\" column is the sum of all order sizes for that specific second.\n",
    "# \"Price\" column is median price."
   ]
  },
  {
   "cell_type": "code",
   "execution_count": 8,
   "metadata": {},
   "outputs": [
    {
     "data": {
      "text/html": [
       "<div>\n",
       "<style scoped>\n",
       "    .dataframe tbody tr th:only-of-type {\n",
       "        vertical-align: middle;\n",
       "    }\n",
       "\n",
       "    .dataframe tbody tr th {\n",
       "        vertical-align: top;\n",
       "    }\n",
       "\n",
       "    .dataframe thead th {\n",
       "        text-align: right;\n",
       "    }\n",
       "</style>\n",
       "<table border=\"1\" class=\"dataframe\">\n",
       "  <thead>\n",
       "    <tr style=\"text-align: right;\">\n",
       "      <th></th>\n",
       "      <th>DATE</th>\n",
       "      <th>first</th>\n",
       "      <th>last</th>\n",
       "    </tr>\n",
       "  </thead>\n",
       "  <tbody>\n",
       "    <tr>\n",
       "      <th>0</th>\n",
       "      <td>2008/01/02</td>\n",
       "      <td>32.340</td>\n",
       "      <td>31.850</td>\n",
       "    </tr>\n",
       "    <tr>\n",
       "      <th>1</th>\n",
       "      <td>2008/01/03</td>\n",
       "      <td>32.020</td>\n",
       "      <td>31.780</td>\n",
       "    </tr>\n",
       "    <tr>\n",
       "      <th>2</th>\n",
       "      <td>2008/01/04</td>\n",
       "      <td>31.000</td>\n",
       "      <td>31.180</td>\n",
       "    </tr>\n",
       "    <tr>\n",
       "      <th>3</th>\n",
       "      <td>2008/01/07</td>\n",
       "      <td>31.280</td>\n",
       "      <td>31.160</td>\n",
       "    </tr>\n",
       "    <tr>\n",
       "      <th>4</th>\n",
       "      <td>2008/01/08</td>\n",
       "      <td>31.355</td>\n",
       "      <td>30.480</td>\n",
       "    </tr>\n",
       "    <tr>\n",
       "      <th>...</th>\n",
       "      <td>...</td>\n",
       "      <td>...</td>\n",
       "      <td>...</td>\n",
       "    </tr>\n",
       "    <tr>\n",
       "      <th>1758</th>\n",
       "      <td>2014/12/24</td>\n",
       "      <td>94.780</td>\n",
       "      <td>94.420</td>\n",
       "    </tr>\n",
       "    <tr>\n",
       "      <th>1759</th>\n",
       "      <td>2014/12/26</td>\n",
       "      <td>94.750</td>\n",
       "      <td>95.040</td>\n",
       "    </tr>\n",
       "    <tr>\n",
       "      <th>1760</th>\n",
       "      <td>2014/12/29</td>\n",
       "      <td>94.840</td>\n",
       "      <td>95.520</td>\n",
       "    </tr>\n",
       "    <tr>\n",
       "      <th>1761</th>\n",
       "      <td>2014/12/30</td>\n",
       "      <td>95.210</td>\n",
       "      <td>94.680</td>\n",
       "    </tr>\n",
       "    <tr>\n",
       "      <th>1762</th>\n",
       "      <td>2014/12/31</td>\n",
       "      <td>95.260</td>\n",
       "      <td>94.155</td>\n",
       "    </tr>\n",
       "  </tbody>\n",
       "</table>\n",
       "<p>1763 rows × 3 columns</p>\n",
       "</div>"
      ],
      "text/plain": [
       "            DATE   first    last\n",
       "0     2008/01/02  32.340  31.850\n",
       "1     2008/01/03  32.020  31.780\n",
       "2     2008/01/04  31.000  31.180\n",
       "3     2008/01/07  31.280  31.160\n",
       "4     2008/01/08  31.355  30.480\n",
       "...          ...     ...     ...\n",
       "1758  2014/12/24  94.780  94.420\n",
       "1759  2014/12/26  94.750  95.040\n",
       "1760  2014/12/29  94.840  95.520\n",
       "1761  2014/12/30  95.210  94.680\n",
       "1762  2014/12/31  95.260  94.155\n",
       "\n",
       "[1763 rows x 3 columns]"
      ]
     },
     "execution_count": 8,
     "metadata": {},
     "output_type": "execute_result"
    }
   ],
   "source": [
    "#Open and close price for every day\n",
    "First_last = disney.groupby(pd.to_datetime(disney['DATE']).dt.strftime('%Y/%m/%d'))['PRICE'].agg(['first', 'last']).reset_index()\n",
    "First_last"
   ]
  }
 ],
 "metadata": {
  "kernelspec": {
   "display_name": "base",
   "language": "python",
   "name": "python3"
  },
  "language_info": {
   "codemirror_mode": {
    "name": "ipython",
    "version": 3
   },
   "file_extension": ".py",
   "mimetype": "text/x-python",
   "name": "python",
   "nbconvert_exporter": "python",
   "pygments_lexer": "ipython3",
   "version": "3.9.12"
  },
  "orig_nbformat": 4,
  "vscode": {
   "interpreter": {
    "hash": "5d717eb6875b51398d8a27a890072397b78ede9769289c221950f1831de190a0"
   }
  }
 },
 "nbformat": 4,
 "nbformat_minor": 2
}
