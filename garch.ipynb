{
 "cells": [
  {
   "cell_type": "code",
   "execution_count": 1,
   "metadata": {},
   "outputs": [],
   "source": [
    "import numpy as np\n",
    "import pandas as pd\n",
    "import matplotlib.pyplot as plt\n",
    "import zipfile as zip\n",
    "import os"
   ]
  },
  {
   "cell_type": "code",
   "execution_count": 4,
   "metadata": {},
   "outputs": [
    {
     "name": "stdout",
     "output_type": "stream",
     "text": [
      "         DATE      TIME  SIZE  PRICE\n",
      "0  2008/01/02  09:30:02   100  32.34\n",
      "1  2008/01/02  09:30:06   200  32.30\n",
      "2  2008/01/02  09:30:17   100  32.29\n",
      "3  2008/01/02  09:30:19   100  32.34\n",
      "4  2008/01/02  09:30:24   300  32.34\n"
     ]
    }
   ],
   "source": [
    "# read the dataset using the compression zip\n",
    "disney = pd.read_csv('Data/Disney.zip',compression='zip', skiprows=[1], usecols=range(1,5))\n",
    " \n",
    "# display dataset\n",
    "print(disney.head())\n",
    "\n",
    "# \"Size\" column is the sum of all order sizes for that specific second.\n",
    "# \"Price\" column is median price."
   ]
  },
  {
   "cell_type": "code",
   "execution_count": null,
   "metadata": {},
   "outputs": [],
   "source": []
  }
 ],
 "metadata": {
  "kernelspec": {
   "display_name": "base",
   "language": "python",
   "name": "python3"
  },
  "language_info": {
   "codemirror_mode": {
    "name": "ipython",
    "version": 3
   },
   "file_extension": ".py",
   "mimetype": "text/x-python",
   "name": "python",
   "nbconvert_exporter": "python",
   "pygments_lexer": "ipython3",
   "version": "3.9.12 (main, Apr  5 2022, 01:53:17) \n[Clang 12.0.0 ]"
  },
  "orig_nbformat": 4,
  "vscode": {
   "interpreter": {
    "hash": "5d717eb6875b51398d8a27a890072397b78ede9769289c221950f1831de190a0"
   }
  }
 },
 "nbformat": 4,
 "nbformat_minor": 2
}
