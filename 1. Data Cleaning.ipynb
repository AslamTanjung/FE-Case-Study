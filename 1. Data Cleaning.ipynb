{
 "cells": [
  {
   "cell_type": "code",
   "execution_count": 1,
   "metadata": {},
   "outputs": [],
   "source": [
    "import numpy as np\n",
    "import pandas as pd\n",
    "import matplotlib.pyplot as plt\n",
    "import zipfile as zip\n",
    "import os"
   ]
  },
  {
   "cell_type": "code",
   "execution_count": 1,
   "metadata": {},
   "outputs": [],
   "source": [
    "######################################################################################\n",
    "## FUNCTIONS #########################################################################\n",
    "\n",
    "def read_zip(filename):\n",
    "    z = zip.ZipFile(\"Data/Original data/\" + filename, \"r\")\n",
    "    df = pd.read_csv(z.open(z.namelist()[0]), header = 0)\n",
    "    z.close()\n",
    "    return df"
   ]
  },
  {
   "cell_type": "code",
   "execution_count": 4,
   "metadata": {},
   "outputs": [],
   "source": [
    "######################################################################################\n",
    "## INLEZEN ###########################################################################\n",
    "files = os.listdir('Data/Original data')\n",
    "li = []   \n",
    "for filename in files:\n",
    "    df = read_zip(filename)\n",
    "    li.append(df)\n",
    "\n",
    "disney = df = pd.concat(li)"
   ]
  },
  {
   "cell_type": "code",
   "execution_count": null,
   "metadata": {},
   "outputs": [],
   "source": [
    "disney = df.copy()"
   ]
  },
  {
   "cell_type": "code",
   "execution_count": null,
   "metadata": {},
   "outputs": [],
   "source": [
    "######################################################################################\n",
    "## MANIPULEREN #######################################################################\n",
    "## P2\n",
    "disney = disney[disney[\"PRICE\"] != 0.00]\n",
    "disney"
   ]
  },
  {
   "cell_type": "code",
   "execution_count": null,
   "metadata": {},
   "outputs": [],
   "source": [
    "## P3\n",
    "disney = disney[disney['EX'] == \"T\"]\n",
    "disney"
   ]
  },
  {
   "cell_type": "code",
   "execution_count": null,
   "metadata": {},
   "outputs": [],
   "source": [
    "## T1\n",
    "disney = disney[disney['CORR'] == 0]\n",
    "disney"
   ]
  },
  {
   "cell_type": "code",
   "execution_count": null,
   "metadata": {},
   "outputs": [],
   "source": [
    "## T2: E, F have a problem\n",
    "disney = disney[disney['COND'].isin(['@', 'F', '6'])]\n",
    "disney"
   ]
  },
  {
   "cell_type": "code",
   "execution_count": null,
   "metadata": {},
   "outputs": [],
   "source": [
    "## T3: gebruik mean\n",
    "disney['TIME'] = pd.to_datetime(disney['TIME'], format='%H:%M:%S').dt.time\n",
    "disney = disney.groupby(['DATE', \"TIME\"]).agg({'SIZE': 'sum', 'PRICE':['median']})\n",
    "disney.reset_index()"
   ]
  },
  {
   "cell_type": "code",
   "execution_count": null,
   "metadata": {},
   "outputs": [],
   "source": [
    "## T4/Q4\n",
    "deleted_rows = 0\n",
    "disney_index = disney.reset_index()\n",
    "prices = disney_index[\"PRICE\"].values\n",
    "for i, price in enumerate(prices):\n",
    "    band_price = prices[i-25:i+25]\n",
    "    med_price = np.median(band_price)\n",
    "    MAD = np.mean(abs(band_price - med_price))\n",
    "    if (abs(price - med_price) > 10 * MAD):\n",
    "        deleted_rows+=1\n",
    "        disney_index.drop(i, inplace = True)"
   ]
  },
  {
   "cell_type": "code",
   "execution_count": null,
   "metadata": {},
   "outputs": [],
   "source": [
    "disney_index"
   ]
  },
  {
   "cell_type": "code",
   "execution_count": null,
   "metadata": {},
   "outputs": [],
   "source": [
    "filename = \"Disney\"\n",
    "compression_options = dict(method='zip', archive_name=f'{filename}.csv')\n",
    "disney_index.to_csv(f'Data/{filename}.zip', compression=compression_options, header = True, index = True)"
   ]
  }
 ],
 "metadata": {
  "kernelspec": {
   "display_name": "base",
   "language": "python",
   "name": "python3"
  },
  "language_info": {
   "codemirror_mode": {
    "name": "ipython",
    "version": 3
   },
   "file_extension": ".py",
   "mimetype": "text/x-python",
   "name": "python",
   "nbconvert_exporter": "python",
   "pygments_lexer": "ipython3",
   "version": "3.9.12"
  },
  "orig_nbformat": 4,
  "vscode": {
   "interpreter": {
    "hash": "5d717eb6875b51398d8a27a890072397b78ede9769289c221950f1831de190a0"
   }
  }
 },
 "nbformat": 4,
 "nbformat_minor": 2
}
